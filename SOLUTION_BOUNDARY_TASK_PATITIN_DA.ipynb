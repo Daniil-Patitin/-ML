{
  "nbformat": 4,
  "nbformat_minor": 0,
  "metadata": {
    "colab": {
      "name": "Untitled25.ipynb",
      "provenance": [],
      "collapsed_sections": []
    },
    "kernelspec": {
      "name": "python3",
      "display_name": "Python 3"
    }
  },
  "cells": [
    {
      "cell_type": "code",
      "metadata": {
        "id": "Wnlq58raDKIz",
        "colab_type": "code",
        "colab": {
          "base_uri": "https://localhost:8080/",
          "height": 315
        },
        "outputId": "9428522d-8429-4645-f3a5-c41f568c9ac2"
      },
      "source": [
        "import numpy as np\n",
        "import random\n",
        "import matplotlib.pyplot as plt\n",
        "from mpl_toolkits.mplot3d import Axes3D\n",
        "#import pandas as pd\n",
        "import math\n",
        "N = 128\n",
        "a = 0     #2\n",
        "b = 1     #6\n",
        "y_a = 0   #4\n",
        "y_b = 1   #8\n",
        "ERROR = 1\n",
        "check = 0\n",
        "K=0\n",
        "Y_VECTOR_OLD = np.array([])\n",
        "X_VECTOR_OLD = np.array([])\n",
        "\n",
        "while ERROR > 1e-4:\n",
        "  shag = (b-a)/N\n",
        "  \n",
        "\n",
        "  MATRIX = np.array([0*i for i in range((N+1)*(N+1))], float)\n",
        "  MATRIX = MATRIX.reshape(N+1,-1)\n",
        "  VECTOR = np.array([i*0 for i in range(N+1)], float)\n",
        "  VECTOR = VECTOR.reshape(N+1,-1)\n",
        "\n",
        "  #print(MATRIX)\n",
        "  # y\"+y'(ln(x+2))+ye^(x)=x^3   y(0)=0,y(1)=1\n",
        "\n",
        "  def A(i):\n",
        "    x = a + i * shag\n",
        "    if (i == 0) or (i == N):\n",
        "      return 0\n",
        "    else:\n",
        "      return 1 - ( math.log(x+2) * (shag/2) )\n",
        "      #return 1 + ( (2/(2*x+1)) * (shag/2) )\n",
        "\n",
        "  def C(i):\n",
        "    x = a + i * shag\n",
        "    if (i == 0) or (i == N):\n",
        "      return -1\n",
        "    else:\n",
        "      return 2 - ( math.exp(x) * shag**2 ) \n",
        "      #return 2 - ( ((-12)/((2*x+1)**2)) * shag**2 ) \n",
        "\n",
        "  def B(i):\n",
        "    x = a + i * shag\n",
        "    if (i == 0) or (i == N):\n",
        "      return 0\n",
        "    else:\n",
        "      return 1 + ( math.log(x+2) * (shag/2) )\n",
        "      #return 1 - ( (2/(2*x+1)) * (shag/2) )\n",
        "\n",
        "  def F(i):\n",
        "    x = a + i * shag\n",
        "    if i == 0:\n",
        "      return y_a\n",
        "    if i == N:\n",
        "      return y_b\n",
        "    if (i>0) and (i<N):      \n",
        "      return x**3 * shag**2\n",
        "      #return ((3*x+1)/((2*x+1)**2)) * shag**2\n",
        "\n",
        "  def f(i):\n",
        "    x = a + i * shag\n",
        "    return x**3\n",
        "    #return (3*x+1)/((2*x+1)**2)\n",
        "\n",
        "\n",
        "  ALFA_VECTOR = np.array([0*i for i in range(N+1)], float)  \n",
        "  ALFA_VECTOR = ALFA_VECTOR.reshape(N+1,-1)\n",
        "\n",
        "  BETTA_VECTOR = np.array([0*i for i in range(N+1)], float)\n",
        "  BETTA_VECTOR = BETTA_VECTOR.reshape(N+1,-1)\n",
        "\n",
        "  for i in range(N+1):\n",
        "    if i == 0:\n",
        "      ALFA_VECTOR[i] = B(0) / C(0)\n",
        "      BETTA_VECTOR[i] = -(F(0) / C(0))\n",
        "    else:\n",
        "      ALFA_VECTOR[i] = B(i) / (C(i) - (ALFA_VECTOR[i-1] * A(i)))\n",
        "      BETTA_VECTOR[i] = (BETTA_VECTOR[i-1] * A(i) - F(i)) / (C(i) - ALFA_VECTOR[i-1] * A(i))\n",
        "    #print(A(i),C(i),B(i),F(i), ALFA_VECTOR[i], BETTA_VECTOR[i], i)\n",
        "\n",
        "  for i in range(N+1):\n",
        "    if i == 0:\n",
        "      MATRIX[i,i+1] = B(i)\n",
        "      MATRIX[i,i] = C(i)\n",
        "      #print(C(i),B(i))\n",
        "    if i == N:\n",
        "      MATRIX[i,i-1] = A(i)\n",
        "      MATRIX[i,i] = C(i)\n",
        "      #print(C(i),A(i))\n",
        "    if (i > 0) and (i < N):\n",
        "      MATRIX[i,i] = C(i)\n",
        "      MATRIX[i,i-1] = A(i)\n",
        "      MATRIX[i,i+1] = B(i)\n",
        "      #print(C(i),A(i),B(i))\n",
        "    VECTOR[i] = F(i)\n",
        "    \n",
        "\n",
        "\n",
        "  Y_VECTOR = np.array([0*i for i in range(N+1)], float)\n",
        "  Y_VECTOR = Y_VECTOR.reshape(N+1,-1)\n",
        "  X_VECTOR = np.array([(a + i * shag) for i in range(N+1)])\n",
        "\n",
        "  for i in range(N,-1,-1):\n",
        "    if i == N:\n",
        "      Y_VECTOR[i] = y_b\n",
        "    else:\n",
        "      Y_VECTOR[i] = ALFA_VECTOR[i] * Y_VECTOR[i+1] + BETTA_VECTOR[i]\n",
        "    #print('yyyyyyyy', Y_VECTOR[i])\n",
        "\n",
        "    \n",
        "  if check == 1:\n",
        "    ERROR = 0\n",
        "    for i in range(len(Y_VECTOR_OLD)):\n",
        "      #print(len(Y_VECTOR),len(Y_VECTOR_OLD))\n",
        "      if (abs(Y_VECTOR[i*2]) > 0) and (abs(Y_VECTOR_OLD[i]) > 0):\n",
        "        ERROR = ERROR + abs(1 - abs(Y_VECTOR[i*2] / Y_VECTOR_OLD[i]))\n",
        "        #print(ERROR, Y_VECTOR[i*2],X_VECTOR[i*2] , Y_VECTOR_OLD[i], X_VECTOR_OLD[i])\n",
        "    #print(ERROR)\n",
        "  if check == 0:\n",
        "    check = 1\n",
        "  Y_VECTOR_OLD = Y_VECTOR\n",
        "  X_VECTOR_OLD = X_VECTOR\n",
        "  #(print( Y_VECTOR_OLD , Y_VECTOR))\n",
        "  N = N * 2\n",
        "print('                                                                             метод конечных разностей.')\n",
        "print('визуализация численного решения:')    \n",
        "plt.plot(X_VECTOR, Y_VECTOR) \n",
        "plt.show()\n",
        "print('сетка разбиения:', N/2)\n",
        "#print(X_VECTOR[1]/Y_VECTOR[1])"
      ],
      "execution_count": 2,
      "outputs": [
        {
          "output_type": "stream",
          "text": [
            "                                                                             метод конечных разностей.\n",
            "визуализация численного решения:\n"
          ],
          "name": "stdout"
        },
        {
          "output_type": "display_data",
          "data": {
            "image/png": "[encoded data removed]",
            "text/plain": [
              "<Figure size 432x288 with 1 Axes>"
            ]
          },
          "metadata": {
            "tags": [],
            "needs_background": "light"
          }
        },
        {
          "output_type": "stream",
          "text": [
            "сетка разбиения: 1024.0\n"
          ],
          "name": "stdout"
        }
      ]
    },
    {
      "cell_type": "code",
      "metadata": {
        "id": "0SLDEi3yDZSZ",
        "colab_type": "code",
        "colab": {
          "base_uri": "https://localhost:8080/",
          "height": 298
        },
        "outputId": "cf745753-d8c2-4fd0-8d12-56a804ac5b68"
      },
      "source": [
        "a = 0\n",
        "b = 1\n",
        "n = 1024\n",
        "shag = (b-a) / n\n",
        "y_a = 0\n",
        "y_b = 1 \n",
        "X_GRAF = np.array([(a + i*shag) for i in range(n+1)],float)\n",
        "def p(x):\n",
        "  return math.log(2+x)\n",
        "\n",
        "def q(x):\n",
        "  return math.exp(x)\n",
        "\n",
        "def f(x, y, U):\n",
        "  return x**3 - U * p(x) - y * q(x)\n",
        "\n",
        "def f1(x, y, y_der):\n",
        "  return -y_der * p(x) - y * q(x) \n",
        "\n",
        "#находим занменатель в методе ньтона \n",
        "k_0,k_1,k_2,k_3 = 0,0,0,0\n",
        "q_0,q_1,q_2,q_3 = 0,0,0,0\n",
        "z_ = np.array([0*i for i in range(n+1)],float)\n",
        "x = np.array([(a + i*shag) for i in range(n+1)],float)\n",
        "z_[0] = 1\n",
        "U = 1\n",
        "Y_vector1 = np.array([0])\n",
        "for i in range(n):\n",
        "  k_0 = z_[i]\n",
        "  x_ = x[i]\n",
        "  U = z_[i]\n",
        "  y_= Y_vector1[i]\n",
        "  q_0 = f1(x_,y_,U)\n",
        "  k_1 = U + (q_0*shag)/2\n",
        "  q_1 = f1(x_+(shag/2), y_+k_0*(shag/2), U+q_0*(shag/2))\n",
        "  k_2 = U + q_1*(shag/2)\n",
        "  q_2 = f1(x_+(shag/2), y_+k_1*(shag/2), U+k_1*(shag/2))\n",
        "  k_3 = U + q_2*(shag/2)\n",
        "  q_3 = f1(x_+shag, y_+k_2*shag, U+q_2*shag)\n",
        "  y_i_1 = y_ + (shag/6)*(k_0+2*k_1+2*k_2+k_3) \n",
        "  Y_vector1 = np.append(Y_vector1,y_i_1)\n",
        "  z_[i+1] = z_[i] + (shag/6)*(q_0+2*q_1+2*q_2+q_3)\n",
        "  U = z_[i+1]\n",
        "Y = Y_vector1[n]\n",
        "print('значение знаменателя для формулы Ньютона:', Y)\n",
        "\n",
        "def RUNGE_KUTTA_METHOD(S):\n",
        "  k_0,k_1,k_2,k_3 = 0,0,0,0\n",
        "  q_0,q_1,q_2,q_3 = 0,0,0,0\n",
        "  z = np.array([0*i for i in range(n+1)],float)\n",
        "  x = np.array([(a + i*shag) for i in range(n+1)],float)\n",
        "  z[0] = S\n",
        "  U = S\n",
        "  Y_vector = np.array([0])\n",
        "  for i in range(n):\n",
        "    k_0 = z[i]\n",
        "    x_ = x[i]\n",
        "    U = z[i]\n",
        "    y_= Y_vector[i]\n",
        "    q_0 = f(x_,y_,U)\n",
        "    k_1 = U + (q_0*shag)/2\n",
        "    q_1 = f(x_+(shag/2), y_+k_0*(shag/2), U+q_0*(shag/2))\n",
        "    k_2 = U + q_1*(shag/2)\n",
        "    q_2 = f(x_+(shag/2), y_+k_1*(shag/2), U+k_1*(shag/2))\n",
        "    k_3 = U + q_2*(shag/2)\n",
        "    q_3 = f(x_+shag, y_+k_2*shag, U+q_2*shag)\n",
        "    y_i_1 = y_ + (shag/6)*(k_0+2*k_1+2*k_2+k_3) \n",
        "    Y_vector = np.append(Y_vector,y_i_1)\n",
        "    z[i+1] = z[i] + (shag/6)*(q_0+2*q_1+2*q_2+q_3)\n",
        "    U = z[i+1]\n",
        "  return Y_vector\n",
        "\n",
        "def NEWTON_METHOD():\n",
        "  #находим начальное значение производной в точке а\n",
        "  z = np.array([0*i for i in range(n+1)],float)\n",
        "  Y_vector = np.array([0])\n",
        "  FAT = 1\n",
        "  S__0 = 2\n",
        "  while FAT > 1e-6:\n",
        "    YYY = RUNGE_KUTTA_METHOD(S__0)\n",
        "    S__0 = S__0 - (YYY[n] - y_b)/ Y\n",
        "    #print(S__0, YYY[n] , y_b, Y)\n",
        "    FAT = abs(YYY[n] - y_b)\n",
        "  print('начальное значение производной:', S__0)\n",
        "  return RUNGE_KUTTA_METHOD(S__0)\n",
        "Y_GRAF = NEWTON_METHOD()\n",
        "plt.plot(X_GRAF, Y_GRAF) \n",
        "plt.show()\n",
        "#print(Y_GRAF[n])\n",
        "\n",
        "\n"
      ],
      "execution_count": 41,
      "outputs": [
        {
          "output_type": "stream",
          "text": [
            "значение знаменателя для формулы Ньютона: 0.5076948396681685\n",
            "начальное значение производной: 1.889428767579504\n"
          ],
          "name": "stdout"
        },
        {
          "output_type": "display_data",
          "data": {
            "image/png": "[encoded data removed]",
            "text/plain": [
              "<Figure size 432x288 with 1 Axes>"
            ]
          },
          "metadata": {
            "tags": [],
            "needs_background": "light"
          }
        }
      ]
    },
    {
      "cell_type": "code",
      "metadata": {
        "id": "7UiSiTryiAoz",
        "colab_type": "code",
        "colab": {
          "base_uri": "https://localhost:8080/",
          "height": 293
        },
        "outputId": "5c55a040-0509-4ec6-af26-a22c397a56e6"
      },
      "source": [
        "#сравнение методов:\n",
        "Y_conclusion_ = np.array([0])\n",
        "summ = 0 \n",
        "T = int(N/2)\n",
        "for i in range(T):\n",
        "  for j in range(n):\n",
        "    if X_VECTOR[i] == X_GRAF[j]:\n",
        "      #summ = summ + abs(Y_VECTOR[i] - Y_GRAF[j])\n",
        "      Y_conclusion_ = np.append(Y_conclusion_, abs(Y_VECTOR[i] - Y_GRAF[j]))\n",
        "#print('погрешность между двумя методами:', summ)       #смысла в этом нет \n",
        "#plt.plot(X_VECTOR, Y_VECTOR) \n",
        "#plt.plot(X_GRAF, Y_GRAF)\n",
        "#plt.show()\n",
        "print('график ошибки двух решений для сетки в первом и во втором случае:', T,n)\n",
        "plt.plot(X_GRAF, Y_conclusion_)\n",
        "plt.show()"
      ],
      "execution_count": 42,
      "outputs": [
        {
          "output_type": "stream",
          "text": [
            "график ошибки двух решений для сетки в первом и во втором случае: 1024 1024\n"
          ],
          "name": "stdout"
        },
        {
          "output_type": "display_data",
          "data": {
            "image/png": "[encoded data removed]",
            "text/plain": [
              "<Figure size 432x288 with 1 Axes>"
            ]
          },
          "metadata": {
            "tags": [],
            "needs_background": "light"
          }
        }
      ]
    },
    {
      "cell_type": "code",
      "metadata": {
        "id": "oFQFGhyzol0h",
        "colab_type": "code",
        "colab": {
          "base_uri": "https://localhost:8080/",
          "height": 298
        },
        "outputId": "feac18c0-d5b5-4741-dcf1-b14e93124e59"
      },
      "source": [
        "S_1 = 10\n",
        "S_2 = 0\n",
        "\n",
        "\n",
        "\n",
        "def FI(S):\n",
        "  k_0,k_1,k_2,k_3 = 0,0,0,0\n",
        "  q_0,q_1,q_2,q_3 = 0,0,0,0\n",
        "  z = np.array([0*i for i in range(n+1)],float)\n",
        "  x = np.array([(a + i*shag) for i in range(n+1)],float)\n",
        "  z[0] = S\n",
        "  U = S\n",
        "  Y_vector__ = np.array([0])\n",
        "  for i in range(n):\n",
        "    k_0 = z[i]\n",
        "    x_ = x[i]\n",
        "    U = z[i]\n",
        "    y_= Y_vector__[i]\n",
        "    q_0 = f(x_,y_,U)\n",
        "    k_1 = U + (q_0*shag)/2\n",
        "    q_1 = f(x_+(shag/2), y_+k_0*(shag/2), U+q_0*(shag/2))\n",
        "    k_2 = U + q_1*(shag/2)\n",
        "    q_2 = f(x_+(shag/2), y_+k_1*(shag/2), U+k_1*(shag/2))\n",
        "    k_3 = U + q_2*(shag/2)\n",
        "    q_3 = f(x_+shag, y_+k_2*shag, U+q_2*shag)\n",
        "    y_i_1 = y_ + (shag/6)*(k_0+2*k_1+2*k_2+k_3) \n",
        "    Y_vector__ = np.append(Y_vector__,y_i_1)\n",
        "    z[i+1] = z[i] + (shag/6)*(q_0+2*q_1+2*q_2+q_3)\n",
        "    U = z[i+1]\n",
        "  return Y_vector__[n] - y_b\n",
        "\n",
        "TEST = FI(1)\n",
        "while abs(TEST) > 1e-10:\n",
        "  S = S_2 - FI(S_2) * ((S_2 - S_1) / (FI(S_2) - FI(S_1)))\n",
        "  check = S_2\n",
        "  S_2 = S\n",
        "  S_1 = check\n",
        "  TEST = FI(S)\n",
        "  print('погрешность и значение производной в нуле:', FI(S), S)\n",
        "\n",
        "\n",
        "\n",
        "#k_0,k_1,k_2,k_3 = 0,0,0,0\n",
        "#q_0,q_1,q_2,q_3 = 0,0,0,0\n",
        "#z = np.array([0*i for i in range(n+1)],float)\n",
        "#x = np.array([(a + i*shag) for i in range(n+1)],float)\n",
        "#z[0] = S\n",
        "#U = S\n",
        "#Y_vector__ = np.array([0])\n",
        "#for i in range(n):\n",
        "  #k_0 = z[i]\n",
        "  #x_ = x[i]\n",
        "  #U = z[i]\n",
        "  #y_= Y_vector__[i]\n",
        "  #q_0 = f(x_,y_,U)\n",
        "  #k_1 = U + (q_0*shag)/2\n",
        "  #q_1 = f(x_+(shag/2), y_+k_0*(shag/2), U+q_0*(shag/2))\n",
        "  #k_2 = U + q_1*(shag/2)\n",
        "  #q_2 = f(x_+(shag/2), y_+k_1*(shag/2), U+k_1*(shag/2))\n",
        "  #k_3 = U + q_2*(shag/2)\n",
        "  #q_3 = f(x_+shag, y_+k_2*shag, U+q_2*shag)\n",
        "  #y_i_1 = y_ + (shag/6)*(k_0+2*k_1+2*k_2+k_3) \n",
        "  #Y_vector__ = np.append(Y_vector__,y_i_1)\n",
        "  #z[i+1] = z[i] + (shag/6)*(q_0+2*q_1+2*q_2+q_3)\n",
        "  #U = z[i+1]\n",
        "Y_vector__ = RUNGE_KUTTA_METHOD(S)\n",
        "plt.plot(x, Y_vector__)\n",
        "plt.show()\n",
        "#print(GRAF_FUNC(S))\n",
        "#print(Y_vector__[n])\n",
        "                               "
      ],
      "execution_count": 60,
      "outputs": [
        {
          "output_type": "stream",
          "text": [
            "погрешность и значение производной в нуле: -1.6653345369377348e-15 1.889428767579501\n"
          ],
          "name": "stdout"
        },
        {
          "output_type": "display_data",
          "data": {
            "image/png": "[encoded data removed]",
            "text/plain": [
              "<Figure size 432x288 with 1 Axes>"
            ]
          },
          "metadata": {
            "tags": [],
            "needs_background": "light"
          }
        },
        {
          "output_type": "stream",
          "text": [
            "0.9999999999999983\n"
          ],
          "name": "stdout"
        }
      ]
    },
    {
      "cell_type": "code",
      "metadata": {
        "id": "GofkgbDaqCqh",
        "colab_type": "code",
        "colab": {
          "base_uri": "https://localhost:8080/",
          "height": 310
        },
        "outputId": "6b29cfbe-25d1-4cb3-d0f2-0bd92d44d8be"
      },
      "source": [
        "#сравнение методов:\n",
        "Y_conclusion_ = np.array([0])\n",
        "summ = 0 \n",
        "T = int(N/2)\n",
        "for i in range(T):\n",
        "  for j in range(n):\n",
        "    if x[i] == X_GRAF[j]:\n",
        "      #summ = summ + abs(Y_VECTOR[i] - Y_GRAF[j])\n",
        "      Y_conclusion_ = np.append(Y_conclusion_, abs(Y_vector__[i] - Y_GRAF[j]))\n",
        "#print('погрешность между двумя методами:', summ)       #смысла в этом нет \n",
        "#plt.plot(X_VECTOR, Y_VECTOR) \n",
        "#plt.plot(X_GRAF, Y_GRAF)\n",
        "#plt.show()\n",
        "\n",
        "print('график ошибки двух решений для сетки в первом и во втором случае:', T,n)\n",
        "plt.plot(X_GRAF, Y_conclusion_)\n",
        "plt.show()\n",
        "print(Y_vector__[n],Y_GRAF[n])"
      ],
      "execution_count": 61,
      "outputs": [
        {
          "output_type": "stream",
          "text": [
            "график ошибки двух решений для сетки в первом и во втором случае: 1024 1024\n"
          ],
          "name": "stdout"
        },
        {
          "output_type": "display_data",
          "data": {
            "image/png": "[encoded data removed]",
            "text/plain": [
              "<Figure size 432x288 with 1 Axes>"
            ]
          },
          "metadata": {
            "tags": [],
            "needs_background": "light"
          }
        },
        {
          "output_type": "stream",
          "text": [
            "0.9999999999999983 1.0\n"
          ],
          "name": "stdout"
        }
      ]
    },
    {
      "cell_type": "code",
      "metadata": {
        "id": "bbpMvt7Ft4rJ",
        "colab_type": "code",
        "colab": {}
      },
      "source": [
        ""
      ],
      "execution_count": 0,
      "outputs": []
    }
  ]
}