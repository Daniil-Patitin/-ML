{
  "nbformat": 4,
  "nbformat_minor": 0,
  "metadata": {
    "colab": {
      "name": "patitin_newton.ipynb",
      "provenance": []
    },
    "kernelspec": {
      "name": "python3",
      "display_name": "Python 3"
    }
  },
  "cells": [
    {
      "cell_type": "code",
      "metadata": {
        "id": "8joHLV8jZRGn",
        "colab_type": "code",
        "outputId": "acca9153-ec0f-44d7-9a90-08326572e42b",
        "colab": {
          "base_uri": "https://localhost:8080/",
          "height": 298
        }
      },
      "source": [
        "import numpy as np\n",
        "import random\n",
        "import matplotlib.pyplot as plt\n",
        "from mpl_toolkits.mplot3d import Axes3D\n",
        "import math\n",
        "MAX = 4\n",
        "delta = 1e-5\n",
        "delta_x =1e-8\n",
        "n = 2\n",
        "epsilon = 1e-5\n",
        "X = np.array([1,1],float)\n",
        "def f1(X):\n",
        "  #return math.sin(2*X[0] - X[1]) - 1.2*X[0] - 0.4\n",
        "  return X[0]**4-(X[1]+1)\n",
        "def f2(X):\n",
        "  #return 0.8*X[0]**2+1.5*X[1]**2-1\n",
        "  return X[0]-math.tan(X[1])\n",
        "\n",
        "def derivative_X_f1(X):\n",
        "  #return 2*math.cos(2*X[0] - X[1]) - 1.2\n",
        "  return 4*X[0]**3\n",
        "def derivative_Y_f1(X):\n",
        "  #return -math.cos(2*X[0]-X[1])\n",
        "  return -1\n",
        "def derivative_X_f2(X):\n",
        "  #return 1.6*X[0]\n",
        "  return 1\n",
        "def derivative_Y_f2(X):\n",
        "  if math.cos(X[1])!=0:\n",
        "    #return 3*X[1]\n",
        "    return -1/((math.cos(X[1]))**2)\n",
        "\n",
        "F =np.array([f1(X),f2(X)],float)\n",
        "F =F.reshape(n,-1)\n",
        "W = np.array([derivative_X_f1(X),derivative_Y_f1(X),derivative_X_f2(X),derivative_Y_f2(X)],float)\n",
        "W = W.reshape(n,-1)\n",
        "sum1=1\n",
        "k=0\n",
        "\n",
        "while sum1>1e-5:\n",
        "  W = np.array([derivative_X_f1(X),derivative_Y_f1(X),derivative_X_f2(X),derivative_Y_f2(X)],float)\n",
        "  W = W.reshape(n,-1)\n",
        "  F =np.array([f1(X),f2(X)],float)\n",
        "  F =F.reshape(n,-1)\n",
        "  F=-F\n",
        "  c = np.linalg.solve(W,F)\n",
        "  for i in range(2):\n",
        "    z=X[i]+c[i]\n",
        "    X[i]=z\n",
        "  sum1=0\n",
        "  for i in range(2):\n",
        "    sum1 = sum1 + c[i]*c[i]\n",
        "  sum1=sum1**0.5\n",
        "  k=k+1\n",
        "print('решение нелинейной системы и количество итераций:',X,k)\n",
        "\n",
        "def F1(x):\n",
        "  return x**4 - 1\n",
        "def F2(x):\n",
        "  return math.atan(x)\n",
        "YYY1 = np.array([],float)\n",
        "YYY2 = np.array([],float)\n",
        "x = np.array([])\n",
        "for i in range(-256,256):\n",
        "  x = np.append(x,i*1e-2)\n",
        "  YYY1 = np.append(YYY1,F1(i*1e-2))\n",
        "  YYY2 = np.append(YYY2,F2(i*1e-2))\n",
        "plt.plot(x, YYY1)\n",
        "plt.plot(x, YYY2)\n",
        "YYY2 = np.array([],float)\n",
        "for j in range(-1,6):\n",
        "  YYY2 = np.array([],float)\n",
        "  for i in range(-256,256):\n",
        "    YYY2 = np.append(YYY2,F2(i*1e-2) + j * math.pi)\n",
        "  plt.plot(x, YYY2)\n",
        "plt.show()\n",
        "#print(abs(f1(X)-f2(X)))\n",
        "#определим минимальное количество итераций:\n",
        "#print(math.log2(math.log2(epsilon)))\n",
        "print('минимальное количество итераций:',math.ceil(math.log2(math.log2(1/epsilon))))"
      ],
      "execution_count": 18,
      "outputs": [
        {
          "output_type": "stream",
          "text": [
            "решение нелинейной системы и количество итераций: [1.16827335 0.86284999] 5\n"
          ],
          "name": "stdout"
        },
        {
          "output_type": "display_data",
          "data": {
            "image/png": "[encoded data removed]",
            "text/plain": [
              "<Figure size 432x288 with 1 Axes>"
            ]
          },
          "metadata": {
            "tags": [],
            "needs_background": "light"
          }
        },
        {
          "output_type": "stream",
          "text": [
            "минимальное количество итераций: 5\n"
          ],
          "name": "stdout"
        }
      ]
    },
    {
      "cell_type": "code",
      "metadata": {
        "id": "Ch2nxRLSoHzq",
        "colab_type": "code",
        "colab": {}
      },
      "source": [
        ""
      ],
      "execution_count": 0,
      "outputs": []
    }
  ]
}